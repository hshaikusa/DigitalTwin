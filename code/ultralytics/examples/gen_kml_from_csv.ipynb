{
 "cells": [
  {
   "cell_type": "code",
   "execution_count": 1,
   "id": "a9d8640d-c10a-4589-81d8-c99681b039ea",
   "metadata": {},
   "outputs": [],
   "source": [
    "import re\n",
    "import ast\n",
    "import numpy as np\n",
    "\n",
    "def array2str(arr, precision=None):\n",
    "    s=np.array_str(arr, precision=precision)\n",
    "    return s.replace('\\n', ',')\n",
    "    \n",
    "def str2array(s):\n",
    "    # Remove space after [\n",
    "    s=re.sub(r'\\[ +', '[', s.strip())\n",
    "    # Replace commas and spaces\n",
    "    s=re.sub(r'[,\\s]+', ', ', s)\n",
    "    return np.array(ast.literal_eval(s))"
   ]
  },
  {
   "cell_type": "code",
   "execution_count": 5,
   "id": "69fda89c-2580-47d3-929e-afa59b86b661",
   "metadata": {},
   "outputs": [
    {
     "name": "stdout",
     "output_type": "stream",
     "text": [
      "c:\\Users\\Hashim\\DIS-9901A\\DigitalTwinData\\code\\ultralytics\\examples\n",
      "KML File Created. \n"
     ]
    }
   ],
   "source": [
    "import os\n",
    "import csv\n",
    "import pandas as pd\n",
    "\n",
    "HOME = os.getcwd()\n",
    "print(HOME)\n",
    "\n",
    "# #Input the file name.\n",
    "# fname = raw_input(\"Enter file name WITHOUT extension: \")\n",
    "fname = \"Philly_street_vertices_latlon\"\n",
    "data = pd.read_csv(('{}\\\\datasets\\\\{}.csv'.format(HOME,fname)))\n",
    "# #Skip the 1st header row.\n",
    "# data.next()\n",
    "#Open the file to be written.\n",
    "f = open('{}\\\\datasets\\\\{}.kml'.format(HOME,fname), 'w')\n",
    "\n",
    "#Writing the kml file.\n",
    "f.write(\"<?xml version='1.0' encoding='UTF-8'?>\\n\")\n",
    "f.write(\"<kml xmlns='http://earth.google.com/kml/2.1'>\\n\")\n",
    "f.write(\"<Document>\\n\")\n",
    "f.write(\"   <name>\" + fname + '.kml' +\"</name>\\n\")\n",
    "for index, row in data.iterrows():\n",
    "    #print(\"****\")\n",
    "    f.write(\"\\t<Placemark>\\n\")\n",
    "    f.write(\"\\t\\t<name>\" + str(row.loc['StreetName']) + \"</name>\\n\")\n",
    "    f.write(\"\\t\\t<description>\" + str(row.loc['StreetName']) + \"</description>\\n\")\n",
    "    f.write(\"\\t\\t<LineString>\\n\")\n",
    "    f.write(\"\\t\\t\\t<coordinates>\")\n",
    "    \n",
    "    vertices = str2array(row['vertices_latlon'])\n",
    "    \n",
    "    for j in range(0, len(vertices)):\n",
    "        f.write(str(vertices[j][0]) + \",\" + str(vertices[j][1]) + \",\" + str(12)+' ')\n",
    "    f.write(str(vertices[0][0]) + \",\" + str(vertices[0][1]) + \",\" + str(12)+' ')\n",
    "\n",
    "    f.write(\"\\t\\t\\t</coordinates>\\n\")\n",
    "    f.write(\"\\t\\t</LineString>\\n\")\n",
    "    f.write(\"\\t</Placemark>\\n\")\n",
    "f.write(\"</Document>\\n\")\n",
    "f.write(\"</kml>\\n\")\n",
    "print(\"KML File Created. \")"
   ]
  },
  {
   "cell_type": "code",
   "execution_count": null,
   "id": "79d34df4-1bd2-490a-9fe7-8fdac88ced1a",
   "metadata": {},
   "outputs": [],
   "source": []
  }
 ],
 "metadata": {
  "kernelspec": {
   "display_name": "yolo8",
   "language": "python",
   "name": "yolo8"
  },
  "language_info": {
   "codemirror_mode": {
    "name": "ipython",
    "version": 3
   },
   "file_extension": ".py",
   "mimetype": "text/x-python",
   "name": "python",
   "nbconvert_exporter": "python",
   "pygments_lexer": "ipython3",
   "version": "3.12.3"
  }
 },
 "nbformat": 4,
 "nbformat_minor": 5
}
