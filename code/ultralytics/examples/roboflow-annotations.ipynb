{
 "cells": [
  {
   "cell_type": "code",
   "execution_count": 1,
   "id": "023b0b9e-2577-4ef8-b54c-48f5cf697933",
   "metadata": {},
   "outputs": [
    {
     "name": "stdout",
     "output_type": "stream",
     "text": [
      "Requirement already satisfied: roboflow in c:\\users\\hafeez\\appdata\\roaming\\python\\python312\\site-packages (1.1.29)\n",
      "Requirement already satisfied: certifi==2023.7.22 in c:\\users\\hafeez\\appdata\\roaming\\python\\python312\\site-packages (from roboflow) (2023.7.22)\n",
      "Requirement already satisfied: chardet==4.0.0 in c:\\users\\hafeez\\appdata\\roaming\\python\\python312\\site-packages (from roboflow) (4.0.0)\n",
      "Requirement already satisfied: cycler==0.10.0 in c:\\users\\hafeez\\appdata\\roaming\\python\\python312\\site-packages (from roboflow) (0.10.0)\n",
      "Requirement already satisfied: idna==2.10 in c:\\users\\hafeez\\appdata\\roaming\\python\\python312\\site-packages (from roboflow) (2.10)\n",
      "Requirement already satisfied: kiwisolver>=1.3.1 in c:\\programdata\\anaconda3\\envs\\yolo8\\lib\\site-packages (from roboflow) (1.4.5)\n",
      "Requirement already satisfied: matplotlib in c:\\programdata\\anaconda3\\envs\\yolo8\\lib\\site-packages (from roboflow) (3.9.0)\n",
      "Requirement already satisfied: numpy>=1.18.5 in c:\\programdata\\anaconda3\\envs\\yolo8\\lib\\site-packages (from roboflow) (1.26.4)\n",
      "Requirement already satisfied: opencv-python-headless==4.8.0.74 in c:\\users\\hafeez\\appdata\\roaming\\python\\python312\\site-packages (from roboflow) (4.8.0.74)\n",
      "Requirement already satisfied: Pillow>=7.1.2 in c:\\programdata\\anaconda3\\envs\\yolo8\\lib\\site-packages (from roboflow) (10.3.0)\n",
      "Requirement already satisfied: python-dateutil in c:\\programdata\\anaconda3\\envs\\yolo8\\lib\\site-packages (from roboflow) (2.9.0.post0)\n",
      "Requirement already satisfied: python-dotenv in c:\\programdata\\anaconda3\\envs\\yolo8\\lib\\site-packages (from roboflow) (1.0.1)\n",
      "Requirement already satisfied: requests in c:\\programdata\\anaconda3\\envs\\yolo8\\lib\\site-packages (from roboflow) (2.31.0)\n",
      "Requirement already satisfied: six in c:\\programdata\\anaconda3\\envs\\yolo8\\lib\\site-packages (from roboflow) (1.16.0)\n",
      "Requirement already satisfied: urllib3>=1.26.6 in c:\\programdata\\anaconda3\\envs\\yolo8\\lib\\site-packages (from roboflow) (2.2.1)\n",
      "Requirement already satisfied: tqdm>=4.41.0 in c:\\programdata\\anaconda3\\envs\\yolo8\\lib\\site-packages (from roboflow) (4.66.4)\n",
      "Requirement already satisfied: PyYAML>=5.3.1 in c:\\programdata\\anaconda3\\envs\\yolo8\\lib\\site-packages (from roboflow) (6.0.1)\n",
      "Requirement already satisfied: requests-toolbelt in c:\\programdata\\anaconda3\\envs\\yolo8\\lib\\site-packages (from roboflow) (1.0.0)\n",
      "Requirement already satisfied: python-magic in c:\\programdata\\anaconda3\\envs\\yolo8\\lib\\site-packages (from roboflow) (0.4.27)\n",
      "Requirement already satisfied: colorama in c:\\programdata\\anaconda3\\envs\\yolo8\\lib\\site-packages (from tqdm>=4.41.0->roboflow) (0.4.6)\n",
      "Requirement already satisfied: contourpy>=1.0.1 in c:\\programdata\\anaconda3\\envs\\yolo8\\lib\\site-packages (from matplotlib->roboflow) (1.2.1)\n",
      "Requirement already satisfied: fonttools>=4.22.0 in c:\\programdata\\anaconda3\\envs\\yolo8\\lib\\site-packages (from matplotlib->roboflow) (4.51.0)\n",
      "Requirement already satisfied: packaging>=20.0 in c:\\programdata\\anaconda3\\envs\\yolo8\\lib\\site-packages (from matplotlib->roboflow) (24.0)\n",
      "Requirement already satisfied: pyparsing>=2.3.1 in c:\\programdata\\anaconda3\\envs\\yolo8\\lib\\site-packages (from matplotlib->roboflow) (3.1.2)\n",
      "Requirement already satisfied: charset-normalizer<4,>=2 in c:\\programdata\\anaconda3\\envs\\yolo8\\lib\\site-packages (from requests->roboflow) (3.3.2)\n"
     ]
    }
   ],
   "source": [
    "!pip install roboflow"
   ]
  },
  {
   "cell_type": "code",
   "execution_count": 10,
   "id": "76c30da7-c8c6-43f5-91e5-bc95139a351d",
   "metadata": {},
   "outputs": [
    {
     "name": "stdout",
     "output_type": "stream",
     "text": [
      "loading Roboflow workspace...\n",
      "loading Roboflow project...\n",
      "{'predictions': [{'segmentation_mask': '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', 'class_map': {'0': 'background', '1': 'vegetation'}, 'image': {'width': 288, 'height': 288}, 'image_path': 'C:\\\\Users\\\\Hafeez\\\\Downloads\\\\vegetation.v1i.png-mask-semantic\\\\test\\\\satellite_39-9459252_-75-1454085_SaintJamesPlace_70_png.rf.1eb38046db464d0047e4dc4cdd6f0575.jpg', 'prediction_type': 'SemanticSegmentationModel'}], 'image': {'width': '288', 'height': '288'}}\n"
     ]
    }
   ],
   "source": [
    "from roboflow import Roboflow\n",
    "rf = Roboflow(api_key=\"03mtjo8gQV6FWUxCtzZ7\")\n",
    "project = rf.workspace().project(\"vegetation-gynk8\")\n",
    "model = project.version(1).model\n",
    "\n",
    "# infer on a local image\n",
    "print(model.predict(r\"C:\\Users\\Hafeez\\Downloads\\vegetation.v1i.png-mask-semantic\\test\\satellite_39-9459252_-75-1454085_SaintJamesPlace_70_png.rf.1eb38046db464d0047e4dc4cdd6f0575.jpg\", confidence=40).json())\n",
    "\n",
    "# visualize your prediction\n",
    "model.predict(r\"C:\\Users\\Hafeez\\Downloads\\vegetation.v1i.png-mask-semantic\\test\\satellite_39-9459252_-75-1454085_SaintJamesPlace_70_png.rf.1eb38046db464d0047e4dc4cdd6f0575.jpg\", confidence=40).save(\"prediction.jpg\")\n",
    "\n",
    "# infer on an image hosted elsewhere\n",
    "# print(model.predict(\"URL_OF_YOUR_IMAGE\", hosted=True, confidence=40, overlap=30).json())"
   ]
  },
  {
   "cell_type": "code",
   "execution_count": null,
   "id": "28357422-6122-41b6-9ab2-9ef550b1cda8",
   "metadata": {},
   "outputs": [],
   "source": []
  }
 ],
 "metadata": {
  "kernelspec": {
   "display_name": "yolo8",
   "language": "python",
   "name": "yolo8"
  },
  "language_info": {
   "codemirror_mode": {
    "name": "ipython",
    "version": 3
   },
   "file_extension": ".py",
   "mimetype": "text/x-python",
   "name": "python",
   "nbconvert_exporter": "python",
   "pygments_lexer": "ipython3",
   "version": "3.12.3"
  }
 },
 "nbformat": 4,
 "nbformat_minor": 5
}
