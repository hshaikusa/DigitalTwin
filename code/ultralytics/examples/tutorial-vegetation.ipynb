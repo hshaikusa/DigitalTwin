{
 "cells": [
  {
   "cell_type": "markdown",
   "metadata": {
    "id": "t6MPjfT5NrKQ"
   },
   "source": [
    "<div align=\"center\">\n",
    "\n",
    "  <a href=\"https://ultralytics.com/yolov8\" target=\"_blank\">\n",
    "    <img width=\"1024\", src=\"https://raw.githubusercontent.com/ultralytics/assets/main/yolov8/banner-yolov8.png\"></a>\n",
    "\n",
    "  [中文](https://docs.ultralytics.com/zh/) | [한국어](https://docs.ultralytics.com/ko/) | [日本語](https://docs.ultralytics.com/ja/) | [Русский](https://docs.ultralytics.com/ru/) | [Deutsch](https://docs.ultralytics.com/de/) | [Français](https://docs.ultralytics.com/fr/) | [Español](https://docs.ultralytics.com/es/) | [Português](https://docs.ultralytics.com/pt/) | [Türkçe](https://docs.ultralytics.com/tr/) | [Tiếng Việt](https://docs.ultralytics.com/vi/) | [हिन्दी](https://docs.ultralytics.com/hi/) | [العربية](https://docs.ultralytics.com/ar/)\n",
    "\n",
    "  <a href=\"https://github.com/ultralytics/ultralytics/actions/workflows/ci.yaml\"><img src=\"https://github.com/ultralytics/ultralytics/actions/workflows/ci.yaml/badge.svg\" alt=\"Ultralytics CI\"></a>\n",
    "  <a href=\"https://console.paperspace.com/github/ultralytics/ultralytics\"><img src=\"https://assets.paperspace.io/img/gradient-badge.svg\" alt=\"Run on Gradient\"/></a>\n",
    "  <a href=\"https://colab.research.google.com/github/ultralytics/ultralytics/blob/main/examples/tutorial.ipynb\"><img src=\"https://colab.research.google.com/assets/colab-badge.svg\" alt=\"Open In Colab\"></a>\n",
    "  <a href=\"https://www.kaggle.com/ultralytics/yolov8\"><img src=\"https://kaggle.com/static/images/open-in-kaggle.svg\" alt=\"Open In Kaggle\"></a>\n",
    "  <a href=\"https://ultralytics.com/discord\"><img alt=\"Discord\" src=\"https://img.shields.io/discord/1089800235347353640?logo=discord&logoColor=white&label=Discord&color=blue\"></a>\n",
    "\n",
    "Welcome to the Ultralytics YOLOv8 🚀 notebook! <a href=\"https://github.com/ultralytics/ultralytics\">YOLOv8</a> is the latest version of the YOLO (You Only Look Once) AI models developed by <a href=\"https://ultralytics.com\">Ultralytics</a>. This notebook serves as the starting point for exploring the various resources available to help you get started with YOLOv8 and understand its features and capabilities.\n",
    "\n",
    "YOLOv8 models are fast, accurate, and easy to use, making them ideal for various object detection and image segmentation tasks. They can be trained on large datasets and run on diverse hardware platforms, from CPUs to GPUs.\n",
    "\n",
    "We hope that the resources in this notebook will help you get the most out of YOLOv8. Please browse the YOLOv8 <a href=\"https://docs.ultralytics.com/\">Docs</a> for details, raise an issue on <a href=\"https://github.com/ultralytics/ultralytics\">GitHub</a> for support, and join our <a href=\"https://ultralytics.com/discord\">Discord</a> community for questions and discussions!\n",
    "\n",
    "</div>"
   ]
  },
  {
   "cell_type": "markdown",
   "metadata": {
    "id": "7mGmQbAO5pQb"
   },
   "source": [
    "# Setup\n",
    "\n",
    "Pip install `ultralytics` and [dependencies](https://github.com/ultralytics/ultralytics/blob/main/pyproject.toml) and check software and hardware."
   ]
  },
  {
   "cell_type": "code",
   "execution_count": null,
   "metadata": {
    "scrolled": true
   },
   "outputs": [],
   "source": [
    "\n",
    "import os\n",
    "HOME = os.getcwd()\n",
    "print(HOME)"
   ]
  },
  {
   "cell_type": "code",
   "execution_count": null,
   "metadata": {
    "colab": {
     "base_uri": "https://localhost:8080/"
    },
    "id": "wbvMlHd_QwMG",
    "outputId": "96335d4c-20a9-4864-f7a4-bb2eb0077a9d"
   },
   "outputs": [],
   "source": [
    "#%pip install ultralytics==8.0.196\n",
    "\n",
    "from IPython import display\n",
    "display.clear_output()\n",
    "\n",
    "import ultralytics\n",
    "ultralytics.checks()"
   ]
  },
  {
   "cell_type": "code",
   "execution_count": null,
   "metadata": {},
   "outputs": [],
   "source": [
    "\n",
    "from ultralytics import YOLO\n",
    "\n",
    "from IPython.display import display, Image"
   ]
  },
  {
   "cell_type": "markdown",
   "metadata": {},
   "source": [
    "## Downloading the Annotated and splitted custom vegetation dataset from Roboflow"
   ]
  },
  {
   "cell_type": "code",
   "execution_count": null,
   "metadata": {},
   "outputs": [],
   "source": [
    "!mkdir {HOME}\\datasets\n",
    "%cd {HOME}\\datasets\n",
    "\n",
    "#!pip install roboflow --quiet\n",
    "\n",
    "from roboflow import Roboflow\n",
    "\n",
    "#rf = Roboflow(api_key=\"03mtjo8gQV6FWUxCtzZ7\")\n",
    "# project = rf.workspace(\"roboflow-jvuqo\").project(\"vegetation-gynk8\")\n",
    "# dataset = project.version(1).download(\"yolov8\")\n",
    "\n",
    "#rf = Roboflow(api_key=\"03mtjo8gQV6FWUxCtzZ7\")\n",
    "# project = rf.workspace(\"vegetation-ojnpy\").project(\"vegetation-yolo8\")\n",
    "# version = project.version(1)\n",
    "# dataset = version.download(\"yolov8-obb\")\n",
    "\n",
    "\n",
    "#rf = Roboflow(api_key=\"03mtjo8gQV6FWUxCtzZ7\")\n",
    "# project = rf.workspace(\"vegetation-ojnpy\").project(\"vegetation-yolo8\")\n",
    "# version = project.version(2)\n",
    "# dataset = version.download(\"yolov8\")\n",
    "\n",
    "# rf = Roboflow(api_key=\"03mtjo8gQV6FWUxCtzZ7\")\n",
    "# project = rf.workspace(\"vegetation-ojnpy\").project(\"vegetation-yolo8\")\n",
    "# version = project.version(3)\n",
    "# dataset = version.download(\"yolov8-obb\")\n",
    "\n",
    "# rf = Roboflow(api_key=\"03mtjo8gQV6FWUxCtzZ7\")\n",
    "# project = rf.workspace(\"vegetation-ojnpy\").project(\"vegetation-yolo8\")\n",
    "# version = project.version(4)\n",
    "# dataset = version.download(\"yolov8-obb\")\n",
    "\n",
    "\n",
    "# rf = Roboflow(api_key=\"03mtjo8gQV6FWUxCtzZ7\")\n",
    "# project = rf.workspace(\"alpaco5-f3woi\").project(\"part-autolabeld\")\n",
    "# version = project.version(5)\n",
    "# dataset = version.download(\"yolov8-obb\")\n",
    "\n",
    "\n",
    "rf = Roboflow(api_key=\"03mtjo8gQV6FWUxCtzZ7\")\n",
    "project = rf.workspace(\"vegetation-ojnpy\").project(\"vegetation-yolo8\")\n",
    "version = project.version(5)\n",
    "dataset = version.download(\"yolov8-obb\")\n"
   ]
  },
  {
   "cell_type": "code",
   "execution_count": null,
   "metadata": {
    "scrolled": true
   },
   "outputs": [],
   "source": [
    "%cd {HOME}\n",
    "\n",
    "!yolo task=detect mode=val model={HOME}/runs/detect/train4/weights/best.pt data={HOME}/datasets/vegetation-yolo8-2/data.yaml"
   ]
  },
  {
   "cell_type": "code",
   "execution_count": null,
   "metadata": {},
   "outputs": [],
   "source": [
    "%cd {HOME}\n",
    "!yolo task=detect mode=predict model={HOME}/runs/detect/train4/weights/best.pt conf=0.25 source={HOME}/datasets/vegetation-yolo8-2/test/images save=True"
   ]
  },
  {
   "cell_type": "markdown",
   "metadata": {},
   "source": [
    "## Yolov8 using segmentation - from available weights, showing an example (no vegetation data trained)"
   ]
  },
  {
   "cell_type": "code",
   "execution_count": null,
   "metadata": {},
   "outputs": [],
   "source": [
    "%cd {HOME}\n",
    "!yolo task=segment mode=predict model=yolov8s-seg.pt conf=0.25 source='https://media.roboflow.com/notebooks/examples/dog.jpeg' save=true"
   ]
  },
  {
   "cell_type": "code",
   "execution_count": null,
   "metadata": {},
   "outputs": [],
   "source": [
    "%cd {HOME}\n",
    "filename='{}/runs/segment/predict/dog.jpeg'.format(HOME)\n",
    "print(filename)\n",
    "Image(filename, height=600)"
   ]
  },
  {
   "cell_type": "code",
   "execution_count": null,
   "metadata": {},
   "outputs": [],
   "source": [
    "model = YOLO(f'{HOME}/yolov8s-seg.pt')\n",
    "results = model.predict(source='https://media.roboflow.com/notebooks/examples/dog.jpeg', conf=0.25)"
   ]
  },
  {
   "cell_type": "code",
   "execution_count": null,
   "metadata": {},
   "outputs": [],
   "source": [
    "results[0].boxes.xyxy"
   ]
  },
  {
   "cell_type": "code",
   "execution_count": null,
   "metadata": {},
   "outputs": [],
   "source": [
    "results[0].boxes"
   ]
  },
  {
   "cell_type": "code",
   "execution_count": null,
   "metadata": {},
   "outputs": [],
   "source": [
    "results[0].masks"
   ]
  },
  {
   "cell_type": "markdown",
   "metadata": {},
   "source": [
    "## Yolo v8 segmentation training"
   ]
  },
  {
   "cell_type": "markdown",
   "metadata": {
    "id": "ZY2VXXXu74w5"
   },
   "source": [
    "# Train Yolo v8 Segmentation model on custom vegetation data\n",
    "\n",
    "<p align=\"\"><a href=\"https://bit.ly/ultralytics_hub\"><img width=\"1000\" src=\"https://github.com/ultralytics/assets/raw/main/yolov8/banner-integrations.png\"/></a></p>\n",
    "\n",
    "Train YOLOv8 on [Detect](https://docs.ultralytics.com/tasks/detect/), [Segment](https://docs.ultralytics.com/tasks/segment/), [Classify](https://docs.ultralytics.com/tasks/classify/) and [Pose](https://docs.ultralytics.com/tasks/pose/) datasets. See [YOLOv8 Train Docs](https://docs.ultralytics.com/modes/train/) for more information."
   ]
  },
  {
   "cell_type": "code",
   "execution_count": null,
   "metadata": {
    "scrolled": true
   },
   "outputs": [],
   "source": [
    "%cd {HOME}\n",
    "\n",
    "!yolo task=segment mode=train model=yolov8s-seg.pt data={HOME}/datasets/vegetation-yolo8-5/data.yaml epochs=1000 imgsz=288"
   ]
  },
  {
   "cell_type": "markdown",
   "metadata": {},
   "source": [
    "# Inference with custom vegetation segmentation model"
   ]
  },
  {
   "cell_type": "code",
   "execution_count": null,
   "metadata": {},
   "outputs": [],
   "source": [
    "%cd {HOME}\n",
    "!yolo task=segment mode=val model={HOME}/runs/segment/train10/weights/best.pt data={HOME}/datasets/vegetation-yolo8-5/data.yaml"
   ]
  },
  {
   "cell_type": "markdown",
   "metadata": {},
   "source": [
    "# Inference with custom vegetation segmentation model"
   ]
  },
  {
   "cell_type": "code",
   "execution_count": null,
   "metadata": {
    "scrolled": true
   },
   "outputs": [],
   "source": [
    "%cd {HOME}\n",
    "!yolo task=segment mode=predict model={HOME}/runs/segment/train10/weights/best.pt conf=0.25 source={HOME}/datasets/vegetation-yolo8-5/test/images save=true"
   ]
  },
  {
   "cell_type": "code",
   "execution_count": null,
   "metadata": {},
   "outputs": [],
   "source": [
    "!yolo task=segment mode=predict model={HOME}/runs/segment/train10/weights/best.pt conf=0.25 source={HOME}/datasets/satellite_images save=true"
   ]
  },
  {
   "cell_type": "code",
   "execution_count": null,
   "metadata": {
    "scrolled": true
   },
   "outputs": [],
   "source": [
    "from ultralytics import YOLO\n",
    "print(HOME)\n",
    "# Load a model\n",
    "# model='c:/Users/Hashim/DIS-9901A/DigitalTwinData/code/ultralytics/examples/runs/segment/train9/weights/best.pt'\n",
    "# model = YOLO(model)  # pretrained YOLOv8n model\n",
    "\n",
    "# Run batched inference on a list of images\n",
    "results = model(['c:/Users/Hashim/DIS-9901A/DigitalTwinData/code/ultralytics/examples//datasets/vegetation-yolo8-3/test/images/satellite_39-948932_-75-152446_IonicStreet_30_png.rf.f09c3526be654cbf10242043ff0263f7.jpg', 'c:/Users/Hashim/DIS-9901A/DigitalTwinData/code/ultralytics/examples/datasets/vegetation-yolo8-3/test/images/satellite_39-94931349740212_-75-14567243066136_ElbowLane_90_png.rf.2f1bc294e304abb09c05aa349f7fb1be.jpg'])  # return a list of Results objects\n",
    "\n",
    "results\n",
    "# Process results list\n",
    "# for result in results:\n",
    "#     boxes = result.boxes  # Boxes object for bounding box outputs\n",
    "#     masks = result.masks  # Masks object for segmentation masks outputs\n",
    "#     keypoints = result.keypoints  # Keypoints object for pose outputs\n",
    "#     probs = result.probs  # Probs object for classification outputs\n",
    "#     obb = result.obb  # Oriented boxes object for OBB outputs\n",
    "#     result.show()  # display to screen\n",
    "#     result.save(filename='result.jpg')  # save to disk\n",
    "\n",
    "for result in results:\n",
    "    print(result.masks.xy)\n",
    "    print(\"+\"*80)"
   ]
  },
  {
   "cell_type": "code",
   "execution_count": null,
   "metadata": {
    "scrolled": true
   },
   "outputs": [],
   "source": [
    "# Inference images output location\n",
    "\n",
    "inference_loc = os.path.join(HOME,\"datasets\\\\vegetation-yolo8-5\\\\test\\\\satellite_images_bin\")\n",
    "!mkdir {inference_loc}\n",
    "\n",
    "i = 0\n",
    "\n",
    "#for image_path in glob.glob(os.path.join(HOME,\"datasets\\\\vegetation-yolo8-3\\\\test\\\\images\",\"*.jpg\"))[:]:\n",
    "for image_path in glob.glob(os.path.join(HOME,\"datasets\\\\vegetation-yolo8-5\\\\test\\\\satellite_images\",\"*.png\"))[:]:\n",
    "    print(image_path)\n",
    "    # Run batched inference on a list of images\n",
    "    results = model([image_path])  # return a list of Results objects\n",
    "    for result in results:\n",
    "        # get array results\n",
    "        if (result.masks != None):\n",
    "            \n",
    "            masks = result.masks.data\n",
    "            boxes = result.boxes.data\n",
    "            # extract classes\n",
    "            clss = boxes[:, 5]\n",
    "            print(clss)\n",
    "            # get indices of results where class is 0 (vegetation in COCO)\n",
    "            vegetation_indices = torch.where(clss == 0)\n",
    "            # use these indices to extract the relevant masks\n",
    "            vegetation_masks = masks[vegetation_indices]\n",
    "            # scale for visualizing results\n",
    "            vegetation_masks = torch.any(vegetation_masks, dim=0).int() * 255\n",
    "            # save to file\n",
    "            #cv2.imwrite(os.path.join(HOME,model.predictor.save_dir,basename_without_ext+\"_bin\"+os.path.splitext(os.path.basename(image_path))[1]), vegetation_masks.cpu().numpy())\n",
    "            basename_without_ext = os.path.splitext(os.path.basename(image_path))[0]\n",
    "            # print(os.path.join(os.path.split(image_path)[0],basename_without_ext+\"_bin\"+os.path.splitext(os.path.basename(image_path))[1]))\n",
    "            # cv2.imwrite(os.path.join(os.path.split(image_path)[0],basename_without_ext+\"_bin\"+os.path.splitext(os.path.basename(image_path))[1]), vegetation_masks.cpu().numpy())\n",
    "    \n",
    "            print(os.path.join(inference_loc,basename_without_ext+\"_bin\"+os.path.splitext(os.path.basename(image_path))[1]))\n",
    "            cv2.imwrite(os.path.join(inference_loc,basename_without_ext+\"_bin\"+os.path.splitext(os.path.basename(image_path))[1]), vegetation_masks.cpu().numpy())\n",
    "            \n",
    "            print(\"loop {} done\".format(i))\n",
    "            i = i +1"
   ]
  },
  {
   "cell_type": "code",
   "execution_count": null,
   "metadata": {
    "scrolled": true
   },
   "outputs": [],
   "source": [
    "result"
   ]
  },
  {
   "cell_type": "code",
   "execution_count": null,
   "metadata": {},
   "outputs": [],
   "source": [
    "import glob\n",
    "from IPython.display import Image, display\n",
    "\n",
    "for image_path in glob.glob(f'{HOME}/runs/segment/predict11/*.png')[:]:\n",
    "      display(Image(filename=image_path, height=600))\n",
    "      print(\"\\n\")"
   ]
  },
  {
   "cell_type": "markdown",
   "metadata": {
    "id": "nPZZeNrLCQG6"
   },
   "source": [
    "# 4. Export\n",
    "\n",
    "Export a YOLOv8 model to any supported format below with the `format` argument, i.e. `format=onnx`. See [YOLOv8 Export Docs](https://docs.ultralytics.com/modes/export/) for more information.\n",
    "\n",
    "- 💡 ProTip: Export to [ONNX](https://docs.ultralytics.com/integrations/onnx/) or [OpenVINO](https://docs.ultralytics.com/integrations/openvino/) for up to 3x CPU speedup.  \n",
    "- 💡 ProTip: Export to [TensorRT](https://docs.ultralytics.com/integrations/tensorrt/) for up to 5x GPU speedup.\n",
    "\n",
    "| Format                                                                   | `format` Argument | Model                     | Metadata | Arguments                                                            |\n",
    "|--------------------------------------------------------------------------|-------------------|---------------------------|----------|----------------------------------------------------------------------|\n",
    "| [PyTorch](https://pytorch.org/)                                          | -                 | `yolov8n.pt`              | ✅        | -                                                                    |\n",
    "| [TorchScript](https://docs.ultralytics.com/integrations/torchscript)     | `torchscript`     | `yolov8n.torchscript`     | ✅        | `imgsz`, `optimize`, `batch`                                         |\n",
    "| [ONNX](https://docs.ultralytics.com/integrations/onnx)                   | `onnx`            | `yolov8n.onnx`            | ✅        | `imgsz`, `half`, `dynamic`, `simplify`, `opset`, `batch`             |\n",
    "| [OpenVINO](https://docs.ultralytics.com/integrations/openvino)           | `openvino`        | `yolov8n_openvino_model/` | ✅        | `imgsz`, `half`, `int8`, `batch`                                     |\n",
    "| [TensorRT](https://docs.ultralytics.com/integrations/tensorrt)           | `engine`          | `yolov8n.engine`          | ✅        | `imgsz`, `half`, `dynamic`, `simplify`, `workspace`, `int8`, `batch` |\n",
    "| [CoreML](https://docs.ultralytics.com/integrations/coreml)               | `coreml`          | `yolov8n.mlpackage`       | ✅        | `imgsz`, `half`, `int8`, `nms`, `batch`                              |\n",
    "| [TF SavedModel](https://docs.ultralytics.com/integrations/tf-savedmodel) | `saved_model`     | `yolov8n_saved_model/`    | ✅        | `imgsz`, `keras`, `int8`, `batch`                                    |\n",
    "| [TF GraphDef](https://docs.ultralytics.com/integrations/tf-graphdef)     | `pb`              | `yolov8n.pb`              | ❌        | `imgsz`, `batch`                                                     |\n",
    "| [TF Lite](https://docs.ultralytics.com/integrations/tflite)              | `tflite`          | `yolov8n.tflite`          | ✅        | `imgsz`, `half`, `int8`, `batch`                                     |\n",
    "| [TF Edge TPU](https://docs.ultralytics.com/integrations/edge-tpu)        | `edgetpu`         | `yolov8n_edgetpu.tflite`  | ✅        | `imgsz`, `batch`                                                     |\n",
    "| [TF.js](https://docs.ultralytics.com/integrations/tfjs)                  | `tfjs`            | `yolov8n_web_model/`      | ✅        | `imgsz`, `half`, `int8`, `batch`                                     |\n",
    "| [PaddlePaddle](https://docs.ultralytics.com/integrations/paddlepaddle)   | `paddle`          | `yolov8n_paddle_model/`   | ✅        | `imgsz`, `batch`                                                     |\n",
    "| [NCNN](https://docs.ultralytics.com/integrations/ncnn)                   | `ncnn`            | `yolov8n_ncnn_model/`     | ✅        | `imgsz`, `half`, `batch`                                             |"
   ]
  },
  {
   "cell_type": "code",
   "execution_count": null,
   "metadata": {
    "colab": {
     "base_uri": "https://localhost:8080/"
    },
    "id": "CYIjW4igCjqD",
    "outputId": "947e65cc-79c8-4713-bfd4-3139903ac05a"
   },
   "outputs": [],
   "source": [
    "!yolo export model=yolov8n.pt format=torchscript"
   ]
  },
  {
   "cell_type": "markdown",
   "metadata": {
    "id": "kUMOQ0OeDBJG"
   },
   "source": [
    "# 5. Python Usage\n",
    "\n",
    "YOLOv8 was reimagined using Python-first principles for the most seamless Python YOLO experience yet. YOLOv8 models can be loaded from a trained checkpoint or created from scratch. Then methods are used to train, val, predict, and export the model. See detailed Python usage examples in the [YOLOv8 Python Docs](https://docs.ultralytics.com/usage/python/)."
   ]
  },
  {
   "cell_type": "code",
   "execution_count": null,
   "metadata": {
    "id": "bpF9-vS_DAaf"
   },
   "outputs": [],
   "source": [
    "from ultralytics import YOLO\n",
    "\n",
    "# Load a model\n",
    "model = YOLO('yolov8n.yaml')  # build a new model from scratch\n",
    "model = YOLO('yolov8n.pt')  # load a pretrained model (recommended for training)\n",
    "\n",
    "# Use the model\n",
    "results = model.train(data='coco8.yaml', epochs=3)  # train the model\n",
    "results = model.val()  # evaluate model performance on the validation set\n",
    "results = model('https://ultralytics.com/images/bus.jpg')  # predict on an image\n",
    "results = model.export(format='onnx')  # export the model to ONNX format"
   ]
  },
  {
   "cell_type": "markdown",
   "metadata": {
    "id": "Phm9ccmOKye5"
   },
   "source": [
    "# 6. Tasks\n",
    "\n",
    "YOLOv8 can train, val, predict and export models for the most common tasks in vision AI: [Detect](https://docs.ultralytics.com/tasks/detect/), [Segment](https://docs.ultralytics.com/tasks/segment/), [Classify](https://docs.ultralytics.com/tasks/classify/) and [Pose](https://docs.ultralytics.com/tasks/pose/). See [YOLOv8 Tasks Docs](https://docs.ultralytics.com/tasks/) for more information.\n",
    "\n",
    "<br><img width=\"1024\" src=\"https://raw.githubusercontent.com/ultralytics/assets/main/im/banner-tasks.png\">\n"
   ]
  },
  {
   "cell_type": "markdown",
   "metadata": {
    "id": "IEijrePND_2I"
   },
   "source": [
    "# Appendix\n",
    "\n",
    "Additional content below."
   ]
  },
  {
   "cell_type": "code",
   "execution_count": null,
   "metadata": {
    "id": "pIdE6i8C3LYp"
   },
   "outputs": [],
   "source": [
    "# Pip install from source\n",
    "!pip install git+https://github.com/ultralytics/ultralytics@main"
   ]
  },
  {
   "cell_type": "code",
   "execution_count": null,
   "metadata": {
    "id": "uRKlwxSJdhd1"
   },
   "outputs": [],
   "source": [
    "# Git clone and run tests on updates branch\n",
    "!git clone https://github.com/ultralytics/ultralytics -b main\n",
    "%pip install -qe ultralytics"
   ]
  },
  {
   "cell_type": "code",
   "execution_count": null,
   "metadata": {
    "id": "GtPlh7mcCGZX"
   },
   "outputs": [],
   "source": [
    "# Run tests (Git clone only)\n",
    "!pytest ultralytics/tests"
   ]
  },
  {
   "cell_type": "code",
   "execution_count": null,
   "metadata": {
    "id": "Wdc6t_bfzDDk"
   },
   "outputs": [],
   "source": [
    "# Validate multiple models\n",
    "for x in 'nsmlx':\n",
    "  !yolo val model=yolov8{x}.pt data=coco.yaml"
   ]
  }
 ],
 "metadata": {
  "accelerator": "GPU",
  "colab": {
   "name": "YOLOv8 Tutorial",
   "provenance": [],
   "toc_visible": true
  },
  "kernelspec": {
   "display_name": "yolo8",
   "language": "python",
   "name": "yolo8"
  },
  "language_info": {
   "codemirror_mode": {
    "name": "ipython",
    "version": 3
   },
   "file_extension": ".py",
   "mimetype": "text/x-python",
   "name": "python",
   "nbconvert_exporter": "python",
   "pygments_lexer": "ipython3",
   "version": "3.12.3"
  }
 },
 "nbformat": 4,
 "nbformat_minor": 4
}
